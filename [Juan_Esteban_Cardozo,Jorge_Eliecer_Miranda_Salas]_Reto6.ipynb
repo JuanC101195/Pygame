{
  "nbformat": 4,
  "nbformat_minor": 0,
  "metadata": {
    "colab": {
      "provenance": [],
      "authorship_tag": "ABX9TyONmi2v7UrCnpgM+kU1AtxF",
      "include_colab_link": true
    },
    "kernelspec": {
      "name": "python3",
      "display_name": "Python 3"
    },
    "language_info": {
      "name": "python"
    }
  },
  "cells": [
    {
      "cell_type": "markdown",
      "metadata": {
        "id": "view-in-github",
        "colab_type": "text"
      },
      "source": [
        "<a href=\"https://colab.research.google.com/github/JuanC101195/Pygame/blob/main/%5BJuan_Esteban_Cardozo%2CJorge_Eliecer_Miranda_Salas%5D_Reto6.ipynb\" target=\"_parent\"><img src=\"https://colab.research.google.com/assets/colab-badge.svg\" alt=\"Open In Colab\"/></a>"
      ]
    },
    {
      "cell_type": "markdown",
      "source": [
        "**Informe sobre el Alistamiento del Entorno de Código para Ciencia de Datos**\n",
        "\n",
        "1) Instalación de NumPy con Referencia 'np':\n",
        "Para instalar NumPy, una poderosa biblioteca para cálculos numéricos en Python, utilicé el siguiente comando en mi terminal o consola de comandos:"
      ],
      "metadata": {
        "id": "OfzCJJqHbbuo"
      }
    },
    {
      "cell_type": "markdown",
      "source": [
        "**pip install numpy**"
      ],
      "metadata": {
        "id": "cz9iBte1b-y2"
      }
    },
    {
      "cell_type": "markdown",
      "source": [
        "Luego, en tu código Python, puedes importar NumPy y asignarlo a la referencia **'np'** de la siguiente manera:"
      ],
      "metadata": {
        "id": "bS7_KAYicHjt"
      }
    },
    {
      "cell_type": "code",
      "source": [
        "import numpy as np"
      ],
      "metadata": {
        "id": "XiwCrLP2cVEd"
      },
      "execution_count": 2,
      "outputs": []
    },
    {
      "cell_type": "markdown",
      "source": [
        "2) **Instalación del Paquete TensorFlow Versión 2.7.0:**\n",
        "Para instalar el paquete del toolbox de redes neuronales TensorFlow en su versión 2.7.0, utiliza el siguiente comando:"
      ],
      "metadata": {
        "id": "1Hy4g-hDcYik"
      }
    },
    {
      "cell_type": "markdown",
      "source": [
        "**pip install tensorflow==2.7.0**\n"
      ],
      "metadata": {
        "id": "Cv6tWsp-ccLm"
      }
    },
    {
      "cell_type": "markdown",
      "source": [
        "Esto asegurará que tengas la versión específica necesaria para tu proyecto.\n",
        "\n",
        "3) **Actualización de Matplotlib a su Última Versión:**\n",
        "Para actualizar la librería Matplotlib a su última versión, ejecuta el siguiente comando:"
      ],
      "metadata": {
        "id": "57Xh67Rack0l"
      }
    },
    {
      "cell_type": "markdown",
      "source": [
        "**pip install --upgrade matplotlib**\n"
      ],
      "metadata": {
        "id": "k37n9oxQcrZ3"
      }
    },
    {
      "cell_type": "markdown",
      "source": [
        "Este comando actualizará Matplotlib a la última versión disponible.\n",
        "\n",
        "4) **Selección del Método 'figure' en Matplotlib:**\n",
        "Dentro de tu código Python, puedes utilizar el método 'figure' de la siguiente manera para crear una nueva figura en Matplotlib:"
      ],
      "metadata": {
        "id": "FhMlufl9cybW"
      }
    },
    {
      "cell_type": "code",
      "source": [
        "import matplotlib.pyplot as plt\n",
        "\n",
        "# Crear una nueva figura\n",
        "fig = plt.figure()"
      ],
      "metadata": {
        "id": "vIzRcZHIc6Fo"
      },
      "execution_count": null,
      "outputs": []
    },
    {
      "cell_type": "markdown",
      "source": [
        "Este código creará una nueva figura vacía que puedes usar para crear gráficos.\n",
        "\n",
        "5) **Mostrar Todo el Stack de Librerías del Entorno de Ejecución:**\n",
        "Para mostrar todo el stack de librerías del entorno de ejecución utilizado, puedes utilizar el siguiente comando en Python:"
      ],
      "metadata": {
        "id": "IrCIENEsc9ZP"
      }
    },
    {
      "cell_type": "code",
      "source": [
        "import pkg_resources\n",
        "\n",
        "# Obtener todas las librerías instaladas y mostrarlas\n",
        "installed_packages = pkg_resources.working_set\n",
        "installed_packages_list = sorted([\"%s==%s\" % (i.key, i.version) for i in installed_packages])\n",
        "print(installed_packages_list)\n"
      ],
      "metadata": {
        "colab": {
          "base_uri": "https://localhost:8080/"
        },
        "id": "v7wDIxDldB0B",
        "outputId": "ba13f926-e098-48ae-b865-2b5e553abb9d"
      },
      "execution_count": 3,
      "outputs": [
        {
          "output_type": "stream",
          "name": "stdout",
          "text": [
            "['absl-py==1.4.0', 'aiohttp==3.8.5', 'aiosignal==1.3.1', 'alabaster==0.7.13', 'albumentations==1.3.1', 'altair==4.2.2', 'anyio==3.7.1', 'appdirs==1.4.4', 'argon2-cffi-bindings==21.2.0', 'argon2-cffi==23.1.0', 'array-record==0.4.1', 'arviz==0.15.1', 'astropy==5.3.3', 'astunparse==1.6.3', 'async-timeout==4.0.3', 'attrs==23.1.0', 'audioread==3.0.0', 'autograd==1.6.2', 'babel==2.12.1', 'backcall==0.2.0', 'beautifulsoup4==4.11.2', 'bleach==6.0.0', 'blinker==1.4', 'blis==0.7.10', 'blosc2==2.0.0', 'bokeh==3.2.2', 'bqplot==0.12.40', 'branca==0.6.0', 'build==1.0.3', 'cachecontrol==0.13.1', 'cachetools==5.3.1', 'catalogue==2.0.9', 'certifi==2023.7.22', 'cffi==1.15.1', 'chardet==5.2.0', 'charset-normalizer==3.2.0', 'chex==0.1.7', 'click-plugins==1.1.1', 'click==8.1.7', 'cligj==0.7.2', 'cloudpickle==2.2.1', 'cmake==3.27.4.1', 'cmdstanpy==1.1.0', 'colorcet==3.0.1', 'colorlover==0.3.0', 'colour==0.1.5', 'community==1.0.0b1', 'confection==0.1.2', 'cons==0.4.6', 'contextlib2==21.6.0', 'contourpy==1.1.0', 'convertdate==2.4.0', 'cryptography==41.0.3', 'cufflinks==0.17.3', 'cvxopt==1.3.2', 'cvxpy==1.3.2', 'cycler==0.11.0', 'cymem==2.0.7', 'cython==3.0.2', 'dask==2023.8.1', 'datascience==0.17.6', 'db-dtypes==1.1.1', 'dbus-python==1.2.18', 'debugpy==1.6.6', 'decorator==4.4.2', 'defusedxml==0.7.1', 'distributed==2023.8.1', 'distro==1.7.0', 'dlib==19.24.2', 'dm-tree==0.1.8', 'docutils==0.18.1', 'dopamine-rl==4.0.6', 'duckdb==0.8.1', 'earthengine-api==0.1.368', 'easydict==1.10', 'ecos==2.0.12', 'editdistance==0.6.2', 'eerepr==0.0.4', 'en-core-web-sm==3.6.0', 'entrypoints==0.4', 'ephem==4.1.4', 'et-xmlfile==1.1.0', 'etils==1.4.1', 'etuples==0.3.9', 'exceptiongroup==1.1.3', 'fastai==2.7.12', 'fastcore==1.5.29', 'fastdownload==0.0.7', 'fastjsonschema==2.18.0', 'fastprogress==1.0.3', 'fastrlock==0.8.2', 'filelock==3.12.2', 'fiona==1.9.4.post1', 'firebase-admin==5.3.0', 'flask==2.2.5', 'flatbuffers==23.5.26', 'flax==0.7.2', 'folium==0.14.0', 'fonttools==4.42.1', 'frozendict==2.3.8', 'frozenlist==1.4.0', 'fsspec==2023.6.0', 'future==0.18.3', 'gast==0.4.0', 'gcsfs==2023.6.0', 'gdal==3.4.3', 'gdown==4.6.6', 'geemap==0.26.0', 'gensim==4.3.2', 'geocoder==1.38.1', 'geographiclib==2.0', 'geopandas==0.13.2', 'geopy==2.3.0', 'gin-config==0.5.0', 'glob2==0.7', 'google-api-core==2.11.1', 'google-api-python-client==2.84.0', 'google-auth-httplib2==0.1.0', 'google-auth-oauthlib==1.0.0', 'google-auth==2.17.3', 'google-cloud-bigquery-connection==1.12.1', 'google-cloud-bigquery-storage==2.22.0', 'google-cloud-bigquery==3.10.0', 'google-cloud-core==2.3.3', 'google-cloud-datastore==2.15.2', 'google-cloud-firestore==2.11.1', 'google-cloud-functions==1.13.2', 'google-cloud-language==2.9.1', 'google-cloud-storage==2.8.0', 'google-cloud-translate==3.11.3', 'google-colab==1.0.0', 'google-crc32c==1.5.0', 'google-pasta==0.2.0', 'google-resumable-media==2.6.0', 'google==2.0.3', 'googleapis-common-protos==1.60.0', 'googledrivedownloader==0.4', 'graphviz==0.20.1', 'greenlet==2.0.2', 'grpc-google-iam-v1==0.12.6', 'grpcio-status==1.48.2', 'grpcio==1.57.0', 'gspread-dataframe==3.3.1', 'gspread==3.4.2', 'gym-notices==0.0.8', 'gym==0.25.2', 'h5netcdf==1.2.0', 'h5py==3.9.0', 'holidays==0.32', 'holoviews==1.17.1', 'html5lib==1.1', 'httpimport==1.3.1', 'httplib2==0.22.0', 'humanize==4.7.0', 'hyperopt==0.2.7', 'idna==3.4', 'imageio-ffmpeg==0.4.8', 'imageio==2.31.3', 'imagesize==1.4.1', 'imbalanced-learn==0.10.1', 'imgaug==0.4.0', 'importlib-metadata==6.8.0', 'importlib-resources==6.0.1', 'imutils==0.5.4', 'inflect==7.0.0', 'iniconfig==2.0.0', 'intel-openmp==2023.2.0', 'ipyevents==2.0.2', 'ipyfilechooser==0.6.0', 'ipykernel==5.5.6', 'ipyleaflet==0.17.3', 'ipython-genutils==0.2.0', 'ipython-sql==0.5.0', 'ipython==7.34.0', 'ipytree==0.2.2', 'ipywidgets==7.7.1', 'itsdangerous==2.1.2', 'jax==0.4.14', 'jaxlib==0.4.14+cuda11.cudnn86', 'jeepney==0.7.1', 'jieba==0.42.1', 'jinja2==3.1.2', 'joblib==1.3.2', 'jsonpickle==3.0.2', 'jsonschema-specifications==2023.7.1', 'jsonschema==4.19.0', 'jupyter-client==6.1.12', 'jupyter-console==6.1.0', 'jupyter-core==5.3.1', 'jupyter-server==1.24.0', 'jupyterlab-pygments==0.2.2', 'jupyterlab-widgets==3.0.8', 'kaggle==1.5.16', 'keras==2.13.1', 'keyring==23.5.0', 'kiwisolver==1.4.5', 'langcodes==3.3.0', 'launchpadlib==1.10.16', 'lazr.restfulclient==0.14.4', 'lazr.uri==1.0.6', 'lazy-loader==0.3', 'libclang==16.0.6', 'librosa==0.10.1', 'lightgbm==4.0.0', 'linkify-it-py==2.0.2', 'lit==16.0.6', 'llvmlite==0.39.1', 'locket==1.0.0', 'logical-unification==0.4.6', 'lunarcalendar==0.0.9', 'lxml==4.9.3', 'markdown-it-py==3.0.0', 'markdown==3.4.4', 'markupsafe==2.1.3', 'matplotlib-inline==0.1.6', 'matplotlib-venn==0.11.9', 'matplotlib==3.7.1', 'mdit-py-plugins==0.4.0', 'mdurl==0.1.2', 'minikanren==1.0.3', 'missingno==0.5.2', 'mistune==0.8.4', 'mizani==0.9.3', 'mkl==2023.2.0', 'ml-dtypes==0.2.0', 'mlxtend==0.22.0', 'more-itertools==10.1.0', 'moviepy==1.0.3', 'mpmath==1.3.0', 'msgpack==1.0.5', 'multidict==6.0.4', 'multipledispatch==1.0.0', 'multitasking==0.0.11', 'murmurhash==1.0.9', 'music21==9.1.0', 'natsort==8.4.0', 'nbclassic==1.0.0', 'nbclient==0.8.0', 'nbconvert==6.5.4', 'nbformat==5.9.2', 'nest-asyncio==1.5.7', 'networkx==3.1', 'nibabel==4.0.2', 'nltk==3.8.1', 'notebook-shim==0.2.3', 'notebook==6.5.5', 'numba==0.56.4', 'numexpr==2.8.5', 'numpy==1.23.5', 'oauth2client==4.1.3', 'oauthlib==3.2.2', 'opencv-contrib-python==4.8.0.76', 'opencv-python-headless==4.8.0.76', 'opencv-python==4.8.0.76', 'openpyxl==3.1.2', 'opt-einsum==3.3.0', 'optax==0.1.7', 'orbax-checkpoint==0.3.5', 'osqp==0.6.2.post8', 'packaging==23.1', 'pandas-datareader==0.10.0', 'pandas-gbq==0.17.9', 'pandas==1.5.3', 'pandocfilters==1.5.0', 'panel==1.2.2', 'param==1.13.0', 'parso==0.8.3', 'partd==1.4.0', 'pathlib==1.0.1', 'pathy==0.10.2', 'patsy==0.5.3', 'pexpect==4.8.0', 'pickleshare==0.7.5', 'pillow==9.4.0', 'pip-tools==6.13.0', 'pip==23.1.2', 'platformdirs==3.10.0', 'plotly==5.15.0', 'plotnine==0.12.3', 'pluggy==1.3.0', 'polars==0.17.3', 'pooch==1.7.0', 'portpicker==1.5.2', 'prefetch-generator==1.0.3', 'preshed==3.0.8', 'prettytable==3.8.0', 'proglog==0.1.10', 'progressbar2==4.2.0', 'prometheus-client==0.17.1', 'promise==2.3', 'prompt-toolkit==3.0.39', 'prophet==1.1.4', 'proto-plus==1.22.3', 'protobuf==3.20.3', 'psutil==5.9.5', 'psycopg2==2.9.7', 'ptyprocess==0.7.0', 'py-cpuinfo==9.0.0', 'py4j==0.10.9.7', 'pyarrow==9.0.0', 'pyasn1-modules==0.3.0', 'pyasn1==0.5.0', 'pycocotools==2.0.7', 'pycparser==2.21', 'pyct==0.5.0', 'pydantic==1.10.12', 'pydata-google-auth==1.8.2', 'pydot-ng==2.0.0', 'pydot==1.4.2', 'pydotplus==2.0.2', 'pydrive2==1.6.3', 'pydrive==1.3.1', 'pyerfa==2.0.0.3', 'pygame==2.5.1', 'pygments==2.16.1', 'pygobject==3.42.1', 'pyjwt==2.3.0', 'pymc==5.7.2', 'pymeeus==0.5.12', 'pymystem3==0.2.0', 'pyopengl==3.1.7', 'pyopenssl==23.2.0', 'pyparsing==3.1.1', 'pyperclip==1.8.2', 'pyproj==3.6.0', 'pyproject-hooks==1.0.0', 'pyshp==2.3.1', 'pysocks==1.7.1', 'pytensor==2.14.2', 'pytest==7.4.1', 'python-apt==0.0.0', 'python-box==7.1.1', 'python-dateutil==2.8.2', 'python-louvain==0.16', 'python-slugify==8.0.1', 'python-utils==3.7.0', 'pytz==2023.3.post1', 'pyviz-comms==3.0.0', 'pywavelets==1.4.1', 'pyyaml==6.0.1', 'pyzmq==23.2.1', 'qdldl==0.1.7.post0', 'qudida==0.0.4', 'ratelim==0.1.6', 'referencing==0.30.2', 'regex==2023.6.3', 'requests-oauthlib==1.3.1', 'requests==2.31.0', 'requirements-parser==0.5.0', 'rich==13.5.2', 'rpds-py==0.10.2', 'rpy2==3.4.2', 'rsa==4.9', 'scikit-image==0.19.3', 'scikit-learn==1.2.2', 'scipy==1.11.2', 'scooby==0.7.2', 'scs==3.2.3', 'seaborn==0.12.2', 'secretstorage==3.3.1', 'send2trash==1.8.2', 'setuptools==67.7.2', 'shapely==2.0.1', 'six==1.16.0', 'sklearn-pandas==2.2.0', 'smart-open==6.4.0', 'sniffio==1.3.0', 'snowballstemmer==2.2.0', 'sortedcontainers==2.4.0', 'soundfile==0.12.1', 'soupsieve==2.5', 'soxr==0.3.6', 'spacy-legacy==3.0.12', 'spacy-loggers==1.0.4', 'spacy==3.6.1', 'sphinx==5.0.2', 'sphinxcontrib-applehelp==1.0.7', 'sphinxcontrib-devhelp==1.0.5', 'sphinxcontrib-htmlhelp==2.0.4', 'sphinxcontrib-jsmath==1.0.1', 'sphinxcontrib-qthelp==1.0.6', 'sphinxcontrib-serializinghtml==1.1.9', 'sqlalchemy==2.0.20', 'sqlparse==0.4.4', 'srsly==2.4.7', 'statsmodels==0.14.0', 'sympy==1.12', 'tables==3.8.0', 'tabulate==0.9.0', 'tbb==2021.10.0', 'tblib==2.0.0', 'tenacity==8.2.3', 'tensorboard-data-server==0.7.1', 'tensorboard==2.13.0', 'tensorflow-datasets==4.9.2', 'tensorflow-estimator==2.13.0', 'tensorflow-gcs-config==2.13.0', 'tensorflow-hub==0.14.0', 'tensorflow-io-gcs-filesystem==0.33.0', 'tensorflow-metadata==1.14.0', 'tensorflow-probability==0.20.1', 'tensorflow==2.13.0', 'tensorstore==0.1.41', 'termcolor==2.3.0', 'terminado==0.17.1', 'text-unidecode==1.3', 'textblob==0.17.1', 'tf-slim==1.1.0', 'thinc==8.1.12', 'threadpoolctl==3.2.0', 'tifffile==2023.8.30', 'tinycss2==1.2.1', 'toml==0.10.2', 'tomli==2.0.1', 'toolz==0.12.0', 'torch==2.0.1+cu118', 'torchaudio==2.0.2+cu118', 'torchdata==0.6.1', 'torchsummary==1.5.1', 'torchtext==0.15.2', 'torchvision==0.15.2+cu118', 'tornado==6.3.2', 'tqdm==4.66.1', 'traitlets==5.7.1', 'traittypes==0.2.1', 'triton==2.0.0', 'tweepy==4.13.0', 'typer==0.9.0', 'types-setuptools==68.2.0.0', 'typing-extensions==4.5.0', 'tzlocal==5.0.1', 'uc-micro-py==1.0.2', 'uritemplate==4.1.1', 'urllib3==2.0.4', 'vega-datasets==0.9.0', 'wadllib==1.3.6', 'wasabi==1.1.2', 'wcwidth==0.2.6', 'webcolors==1.13', 'webencodings==0.5.1', 'websocket-client==1.6.2', 'werkzeug==2.3.7', 'wheel==0.41.2', 'widgetsnbextension==3.6.5', 'wordcloud==1.9.2', 'wrapt==1.15.0', 'xarray-einstats==0.6.0', 'xarray==2023.7.0', 'xgboost==1.7.6', 'xlrd==2.0.1', 'xyzservices==2023.7.0', 'yarl==1.9.2', 'yellowbrick==1.5', 'yfinance==0.2.28', 'zict==3.0.0', 'zipp==3.16.2']\n"
          ]
        }
      ]
    },
    {
      "cell_type": "markdown",
      "source": [
        "Este código utiliza el módulo pkg_resources para obtener todas las librerías instaladas y las imprime en la consola. Asegúrate de tener pkg_resources instalado (lo cual es lo normal con una instalación estándar de Python) para poder utilizar este código."
      ],
      "metadata": {
        "id": "R9e0oYWpdKM1"
      }
    },
    {
      "cell_type": "markdown",
      "source": [
        "**Segunda Parte**"
      ],
      "metadata": {
        "id": "o1Z6E3xQdWKt"
      }
    },
    {
      "cell_type": "code",
      "execution_count": 14,
      "metadata": {
        "colab": {
          "base_uri": "https://localhost:8080/"
        },
        "outputId": "c2e3f920-fb3e-4f14-9614-3aab057fb809",
        "id": "3BhlfLp9hBNc"
      },
      "outputs": [
        {
          "output_type": "stream",
          "name": "stdout",
          "text": [
            "Requirement already satisfied: folium in /usr/local/lib/python3.10/dist-packages (0.14.0)\n",
            "Requirement already satisfied: branca>=0.6.0 in /usr/local/lib/python3.10/dist-packages (from folium) (0.6.0)\n",
            "Requirement already satisfied: jinja2>=2.9 in /usr/local/lib/python3.10/dist-packages (from folium) (3.1.2)\n",
            "Requirement already satisfied: numpy in /usr/local/lib/python3.10/dist-packages (from folium) (1.23.5)\n",
            "Requirement already satisfied: requests in /usr/local/lib/python3.10/dist-packages (from folium) (2.31.0)\n",
            "Requirement already satisfied: MarkupSafe>=2.0 in /usr/local/lib/python3.10/dist-packages (from jinja2>=2.9->folium) (2.1.3)\n",
            "Requirement already satisfied: charset-normalizer<4,>=2 in /usr/local/lib/python3.10/dist-packages (from requests->folium) (3.2.0)\n",
            "Requirement already satisfied: idna<4,>=2.5 in /usr/local/lib/python3.10/dist-packages (from requests->folium) (3.4)\n",
            "Requirement already satisfied: urllib3<3,>=1.21.1 in /usr/local/lib/python3.10/dist-packages (from requests->folium) (2.0.4)\n",
            "Requirement already satisfied: certifi>=2017.4.17 in /usr/local/lib/python3.10/dist-packages (from requests->folium) (2023.7.22)\n"
          ]
        }
      ],
      "source": [
        "!pip install folium\n",
        "from geopy.geocoders import Nominatim\n",
        "from folium.plugins import Geocoder\n",
        "import folium"
      ]
    },
    {
      "cell_type": "markdown",
      "source": [
        "# Explicacion:\n",
        "las librerias para trabajar con mapas consultadas son:\n",
        "cartopy y folium, la libreria elegida es folium por ser una libreria que es compatible con sitios web, es una libreria que una otra libreria llamada leaflet que está escrita en javascrip, es muy potente y usa otras librerias gratuitas como open street maps. Se usa tambien una libreria que funciona consultando servicios de geocodificacion para obtener coordenadas de cualquier lugar que esté en los servicios más populares open source.\n",
        "##breve tutorial de geopy:\n",
        "https://www.europeanvalley.es/noticias/geolocalizacion-y-mapas-con-python/\n",
        "(pildoras 1 a la 4)\n",
        "\n",
        "##breve tutorial de folium:\n",
        "https://www.youtube.com/watch?v=QpBmO35pmVE\n",
        "\n",
        "# descargas:\n",
        "https://python-visualization.github.io/folium/latest/\n",
        "https://geopy.readthedocs.io/en/stable/\n"
      ],
      "metadata": {
        "id": "iwXbpx-umair"
      }
    },
    {
      "cell_type": "markdown",
      "source": [
        "Esta aplicación interactiva comienza solicitándote un lugar específico, preferiblemente identificado por su nombre seguido de la ciudad o país en el que se encuentra. Una vez proporcionado este lugar, la aplicación abre un mapa interactivo centrado en la ubicación indicada. En este mapa, se coloca un marcador preciso en el sitio que elegiste.\n",
        "\n",
        "La aplicación no solo se limita a mostrar un único lugar; también te brinda la opción de explorar otros destinos. Dispone de un buscador incorporado que te permite buscar diferentes lugares. Al seleccionar un nuevo lugar, la aplicación ajusta el mapa automáticamente y coloca un marcador en la nueva ubicación elegida.\n",
        "\n",
        "En resumen, esta aplicación te permite visualizar y explorar varios lugares de interés, marcándolos de forma clara y fácil en un mapa interactivo."
      ],
      "metadata": {
        "id": "3javXylKob4C"
      }
    },
    {
      "cell_type": "code",
      "source": [
        "Nominatim(user_agent = \"MyApp\")\n",
        "nombre_lugar = input(\"ingrese un lugar en el que desee iniciar el mapa\")\n",
        "locs1 = geo.geocode(nombre_lugar, exactly_one=False)\n",
        "i=1\n",
        "for loc in locs1:\n",
        "  print(i,loc)\n",
        "  i+=1\n",
        "seleccion = int(input(\"elija el lgar que desea\"))-1\n",
        "location = (locs1[seleccion].latitude,locs1[seleccion].longitude)\n",
        "m = folium.Map(location=location,zoom_start=30)\n",
        "folium.Marker(location=location ,popup=locs1[seleccion]).add_to(m)\n",
        "Geocoder().add_to(m)\n",
        "m"
      ],
      "metadata": {
        "colab": {
          "base_uri": "https://localhost:8080/",
          "height": 947
        },
        "id": "mcsuwwUJhms4",
        "outputId": "72acc7d2-2637-4e39-a8f6-0f4ac053aecd"
      },
      "execution_count": 19,
      "outputs": [
        {
          "name": "stdout",
          "output_type": "stream",
          "text": [
            "ingrese un lugar en el que desee iniciar el mapala ceja\n",
            "1 La Ceja, Oriente, Antioquia, RAP del Agua y la Montaña, 055010, Colombia\n",
            "2 La Ceja, Marsella, Risaralda, RAP Eje Cafetero, Colombia\n",
            "3 La Ceja, Oriente, Antioquia, RAP del Agua y la Montaña, 055010, Colombia\n",
            "elija el lgar que desea3\n"
          ]
        },
        {
          "output_type": "execute_result",
          "data": {
            "text/plain": [
              "<folium.folium.Map at 0x7f62ba6a6230>"
            ],
            "text/html": [
              "<div style=\"width:100%;\"><div style=\"position:relative;width:100%;height:0;padding-bottom:60%;\"><span style=\"color:#565656\">Make this Notebook Trusted to load map: File -> Trust Notebook</span><iframe srcdoc=\"&lt;!DOCTYPE html&gt;\n",
              "&lt;html&gt;\n",
              "&lt;head&gt;\n",
              "    \n",
              "    &lt;meta http-equiv=&quot;content-type&quot; content=&quot;text/html; charset=UTF-8&quot; /&gt;\n",
              "    \n",
              "        &lt;script&gt;\n",
              "            L_NO_TOUCH = false;\n",
              "            L_DISABLE_3D = false;\n",
              "        &lt;/script&gt;\n",
              "    \n",
              "    &lt;style&gt;html, body {width: 100%;height: 100%;margin: 0;padding: 0;}&lt;/style&gt;\n",
              "    &lt;style&gt;#map {position:absolute;top:0;bottom:0;right:0;left:0;}&lt;/style&gt;\n",
              "    &lt;script src=&quot;https://cdn.jsdelivr.net/npm/leaflet@1.9.3/dist/leaflet.js&quot;&gt;&lt;/script&gt;\n",
              "    &lt;script src=&quot;https://code.jquery.com/jquery-1.12.4.min.js&quot;&gt;&lt;/script&gt;\n",
              "    &lt;script src=&quot;https://cdn.jsdelivr.net/npm/bootstrap@5.2.2/dist/js/bootstrap.bundle.min.js&quot;&gt;&lt;/script&gt;\n",
              "    &lt;script src=&quot;https://cdnjs.cloudflare.com/ajax/libs/Leaflet.awesome-markers/2.0.2/leaflet.awesome-markers.js&quot;&gt;&lt;/script&gt;\n",
              "    &lt;link rel=&quot;stylesheet&quot; href=&quot;https://cdn.jsdelivr.net/npm/leaflet@1.9.3/dist/leaflet.css&quot;/&gt;\n",
              "    &lt;link rel=&quot;stylesheet&quot; href=&quot;https://cdn.jsdelivr.net/npm/bootstrap@5.2.2/dist/css/bootstrap.min.css&quot;/&gt;\n",
              "    &lt;link rel=&quot;stylesheet&quot; href=&quot;https://netdna.bootstrapcdn.com/bootstrap/3.0.0/css/bootstrap.min.css&quot;/&gt;\n",
              "    &lt;link rel=&quot;stylesheet&quot; href=&quot;https://cdn.jsdelivr.net/npm/@fortawesome/fontawesome-free@6.2.0/css/all.min.css&quot;/&gt;\n",
              "    &lt;link rel=&quot;stylesheet&quot; href=&quot;https://cdnjs.cloudflare.com/ajax/libs/Leaflet.awesome-markers/2.0.2/leaflet.awesome-markers.css&quot;/&gt;\n",
              "    &lt;link rel=&quot;stylesheet&quot; href=&quot;https://cdn.jsdelivr.net/gh/python-visualization/folium/folium/templates/leaflet.awesome.rotate.min.css&quot;/&gt;\n",
              "    \n",
              "            &lt;meta name=&quot;viewport&quot; content=&quot;width=device-width,\n",
              "                initial-scale=1.0, maximum-scale=1.0, user-scalable=no&quot; /&gt;\n",
              "            &lt;style&gt;\n",
              "                #map_c2d017e070a2993a742cfdbc42d77574 {\n",
              "                    position: relative;\n",
              "                    width: 100.0%;\n",
              "                    height: 100.0%;\n",
              "                    left: 0.0%;\n",
              "                    top: 0.0%;\n",
              "                }\n",
              "                .leaflet-container { font-size: 1rem; }\n",
              "            &lt;/style&gt;\n",
              "        \n",
              "    &lt;script src=&quot;https://unpkg.com/leaflet-control-geocoder/dist/Control.Geocoder.js&quot;&gt;&lt;/script&gt;\n",
              "    &lt;link rel=&quot;stylesheet&quot; href=&quot;https://unpkg.com/leaflet-control-geocoder/dist/Control.Geocoder.css&quot;/&gt;\n",
              "&lt;/head&gt;\n",
              "&lt;body&gt;\n",
              "    \n",
              "    \n",
              "            &lt;div class=&quot;folium-map&quot; id=&quot;map_c2d017e070a2993a742cfdbc42d77574&quot; &gt;&lt;/div&gt;\n",
              "        \n",
              "&lt;/body&gt;\n",
              "&lt;script&gt;\n",
              "    \n",
              "    \n",
              "            var map_c2d017e070a2993a742cfdbc42d77574 = L.map(\n",
              "                &quot;map_c2d017e070a2993a742cfdbc42d77574&quot;,\n",
              "                {\n",
              "                    center: [6.0309532, -75.4316155],\n",
              "                    crs: L.CRS.EPSG3857,\n",
              "                    zoom: 30,\n",
              "                    zoomControl: true,\n",
              "                    preferCanvas: false,\n",
              "                }\n",
              "            );\n",
              "\n",
              "            \n",
              "\n",
              "        \n",
              "    \n",
              "            var tile_layer_d72d9ea92f1d1cc687edd3fd06cf3de1 = L.tileLayer(\n",
              "                &quot;https://{s}.tile.openstreetmap.org/{z}/{x}/{y}.png&quot;,\n",
              "                {&quot;attribution&quot;: &quot;Data by \\u0026copy; \\u003ca target=\\&quot;_blank\\&quot; href=\\&quot;http://openstreetmap.org\\&quot;\\u003eOpenStreetMap\\u003c/a\\u003e, under \\u003ca target=\\&quot;_blank\\&quot; href=\\&quot;http://www.openstreetmap.org/copyright\\&quot;\\u003eODbL\\u003c/a\\u003e.&quot;, &quot;detectRetina&quot;: false, &quot;maxNativeZoom&quot;: 18, &quot;maxZoom&quot;: 18, &quot;minZoom&quot;: 0, &quot;noWrap&quot;: false, &quot;opacity&quot;: 1, &quot;subdomains&quot;: &quot;abc&quot;, &quot;tms&quot;: false}\n",
              "            ).addTo(map_c2d017e070a2993a742cfdbc42d77574);\n",
              "        \n",
              "    \n",
              "            var marker_3069b8a98b590006c80b8ed79c08d85b = L.marker(\n",
              "                [6.0309532, -75.4316155],\n",
              "                {}\n",
              "            ).addTo(map_c2d017e070a2993a742cfdbc42d77574);\n",
              "        \n",
              "    \n",
              "        var popup_8a31114ec2a639172a7ce5b72beb711d = L.popup({&quot;maxWidth&quot;: &quot;100%&quot;});\n",
              "\n",
              "        \n",
              "            \n",
              "                var html_69da695215ff5dda5eeae032ccb9a410 = $(`&lt;div id=&quot;html_69da695215ff5dda5eeae032ccb9a410&quot; style=&quot;width: 100.0%; height: 100.0%;&quot;&gt;La Ceja, Oriente, Antioquia, RAP del Agua y la Montaña, 055010, Colombia&lt;/div&gt;`)[0];\n",
              "                popup_8a31114ec2a639172a7ce5b72beb711d.setContent(html_69da695215ff5dda5eeae032ccb9a410);\n",
              "            \n",
              "        \n",
              "\n",
              "        marker_3069b8a98b590006c80b8ed79c08d85b.bindPopup(popup_8a31114ec2a639172a7ce5b72beb711d)\n",
              "        ;\n",
              "\n",
              "        \n",
              "    \n",
              "    \n",
              "            L.Control.geocoder(\n",
              "                {&quot;collapsed&quot;: false, &quot;defaultMarkGeocode&quot;: true, &quot;position&quot;: &quot;topright&quot;}\n",
              "            ).on(&#x27;markgeocode&#x27;, function(e) {\n",
              "                map_c2d017e070a2993a742cfdbc42d77574.setView(e.geocode.center, 11);\n",
              "            }).addTo(map_c2d017e070a2993a742cfdbc42d77574);\n",
              "\n",
              "        \n",
              "&lt;/script&gt;\n",
              "&lt;/html&gt;\" style=\"position:absolute;width:100%;height:100%;left:0;top:0;border:none !important;\" allowfullscreen webkitallowfullscreen mozallowfullscreen></iframe></div></div>"
            ]
          },
          "metadata": {},
          "execution_count": 19
        }
      ]
    },
    {
      "cell_type": "markdown",
      "source": [
        "Esta aplicación permite a los usuarios buscar lugares específicos, preferiblemente identificados por su nombre seguido de la ciudad o país en el que se encuentran. Una vez proporcionado el lugar, se abre un mapa interactivo centrado en esa ubicación. La aplicación coloca un marcador en el sitio seleccionado. Además, el mapa ofrece una función de búsqueda integrada que permite a los usuarios explorar otros lugares y marcarlos también. La aplicación proporciona una experiencia intuitiva y fácil de usar para visualizar y marcar múltiples ubicaciones en un mapa interactivo."
      ],
      "metadata": {
        "id": "SNPXSstaiBn9"
      }
    }
  ]
}